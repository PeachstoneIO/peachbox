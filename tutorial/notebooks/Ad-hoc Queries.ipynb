{
 "cells": [
  {
   "cell_type": "code",
<<<<<<< HEAD
   "execution_count": 28,
=======
   "execution_count": 3,
>>>>>>> 1d0a4a3e4fabaa6c59ce9c9d5c0ebc87babd3f30
   "metadata": {
    "collapsed": false
   },
   "outputs": [],
   "source": [
    "import peachbox\n",
    "import os\n",
    "import sys\n",
    "import pandas as pd"
   ]
  },
  {
   "cell_type": "code",
<<<<<<< HEAD
   "execution_count": 29,
=======
   "execution_count": 4,
>>>>>>> 1d0a4a3e4fabaa6c59ce9c9d5c0ebc87babd3f30
   "metadata": {
    "collapsed": false
   },
   "outputs": [],
   "source": [
    "import matplotlib.pyplot as plt\n",
    "%matplotlib inline "
   ]
  },
  {
   "cell_type": "code",
<<<<<<< HEAD
   "execution_count": 30,
=======
   "execution_count": 5,
>>>>>>> 1d0a4a3e4fabaa6c59ce9c9d5c0ebc87babd3f30
   "metadata": {
    "collapsed": false
   },
   "outputs": [],
   "source": [
    "# Set file system to local fs\n",
    "dwh = peachbox.DWH.Instance()\n",
    "dwh.fs = peachbox.fs.Local()\n",
    "dwh.fs.dwh_path = '/peachbox/tutorial/dwh'"
   ]
  },
  {
   "cell_type": "code",
<<<<<<< HEAD
   "execution_count": 31,
=======
   "execution_count": 6,
>>>>>>> 1d0a4a3e4fabaa6c59ce9c9d5c0ebc87babd3f30
   "metadata": {
    "collapsed": false
   },
   "outputs": [],
   "source": [
    "from model.master import ReviewProperties\n",
    "from model.master import ProductReviewEdge\n",
    "from model.master import UserReviewEdge\n"
   ]
  },
  {
   "cell_type": "code",
<<<<<<< HEAD
   "execution_count": 32,
=======
   "execution_count": 7,
>>>>>>> 1d0a4a3e4fabaa6c59ce9c9d5c0ebc87babd3f30
   "metadata": {
    "collapsed": true
   },
   "outputs": [],
   "source": [
    "properties = dwh.query_by_key_range(ReviewProperties, 0, sys.maxint)\n",
    "edges      = dwh.query_by_key_range(ProductReviewEdge, 0, sys.maxint)"
   ]
  },
  {
   "cell_type": "code",
<<<<<<< HEAD
   "execution_count": null,
   "metadata": {
    "collapsed": false
   },
   "outputs": [],
   "source": []
  },
  {
   "cell_type": "code",
   "execution_count": 33,
=======
   "execution_count": 9,
   "metadata": {
    "collapsed": true
   },
   "outputs": [
    {
     "data": {
      "text/plain": [
       "[Row(true_as_of_seconds=913852800, review_id=u'-6018549669591809664', helpful=2, nothelpful=0, score=5, summary=u'This movie keeps you on the edge of your seat!!!!!!!', text=u\"The movie Fallen was a very suspenceful thriller with a very good plot and great acting. This movie was scary without being to bloody like some of the other movies out like Scream and I Know What You Did Last Summer.If you  haven't seen it yet I suggest you to but remember, Time is on my side yes  it is.\"),\n",
       " Row(true_as_of_seconds=913852800, review_id=u'4878654123809909071', helpful=2, nothelpful=2, score=5, summary=u'Excellent movie', text=u\"The Amazon review for this movie is right on the dot. I do think that this movie is still more daring than 90% of the films you'll see today. Jon Voigt is fantastic as a naive small-town hustler who traps himself in a big  city. A big reason to see this movie is for the shots of bohemian 42nd  street before Guiliani's henchmen moved in and &quot;disneyfied&quot; it...\"),\n",
       " Row(true_as_of_seconds=913852800, review_id=u'8872985886484320097', helpful=3, nothelpful=0, score=5, summary=u'Hilarious!', text=u\"This is my favorite funny movie.  I don't usually like slapstick, but these are great gags.  The bad guy gets his, the girl is tolerant but assertive, and the good guy gets his.  I liked the navy's song and the  Village People singing &quot;In the Navy&quot; along with Kelsey at the  end.  This movie will make you happy.\")]"
      ]
     },
     "execution_count": 9,
     "metadata": {},
     "output_type": "execute_result"
    }
   ],
   "source": [
    "properties.take(3)"
   ]
  },
  {
   "cell_type": "code",
   "execution_count": 10,
>>>>>>> 1d0a4a3e4fabaa6c59ce9c9d5c0ebc87babd3f30
   "metadata": {
    "collapsed": false
   },
   "outputs": [],
   "source": [
    "reviews = properties.join(edges, properties.review_id==edges.review_id)"
   ]
  },
  {
   "cell_type": "code",
<<<<<<< HEAD
   "execution_count": 34,
=======
   "execution_count": 11,
>>>>>>> 1d0a4a3e4fabaa6c59ce9c9d5c0ebc87babd3f30
   "metadata": {
    "collapsed": false
   },
   "outputs": [
    {
     "data": {
      "text/plain": [
<<<<<<< HEAD
       "41605"
      ]
     },
     "execution_count": 34,
=======
       "58448"
      ]
     },
     "execution_count": 11,
>>>>>>> 1d0a4a3e4fabaa6c59ce9c9d5c0ebc87babd3f30
     "metadata": {},
     "output_type": "execute_result"
    }
   ],
   "source": [
    "reviews.count()"
   ]
  },
  {
   "cell_type": "code",
   "execution_count": 12,
   "metadata": {
    "collapsed": false
   },
   "outputs": [],
   "source": [
    "reviews = reviews.select(properties.true_as_of_seconds, properties.review_id, edges.product_id, properties.score)"
   ]
  },
  {
   "cell_type": "code",
<<<<<<< HEAD
   "execution_count": 24,
=======
   "execution_count": 13,
>>>>>>> 1d0a4a3e4fabaa6c59ce9c9d5c0ebc87babd3f30
   "metadata": {
    "collapsed": false
   },
   "outputs": [],
   "source": [
    "# Use sample and export to Pandas\n",
    "df = reviews.sample(withReplacement=False, fraction=1.0, seed=23456743).toPandas()"
   ]
  },
  {
   "cell_type": "code",
<<<<<<< HEAD
   "execution_count": 25,
=======
   "execution_count": 14,
>>>>>>> 1d0a4a3e4fabaa6c59ce9c9d5c0ebc87babd3f30
   "metadata": {
    "collapsed": false
   },
   "outputs": [],
   "source": [
    "df['dt'] = pd.DatetimeIndex(df.true_as_of_seconds.index.asi8*10**9, tz='utc')"
   ]
  },
  {
   "cell_type": "code",
<<<<<<< HEAD
   "execution_count": 26,
=======
   "execution_count": 15,
>>>>>>> 1d0a4a3e4fabaa6c59ce9c9d5c0ebc87babd3f30
   "metadata": {
    "collapsed": true
   },
   "outputs": [],
   "source": [
    "df = df.set_index(['dt'])"
   ]
  },
  {
   "cell_type": "code",
<<<<<<< HEAD
   "execution_count": 27,
=======
   "execution_count": 16,
>>>>>>> 1d0a4a3e4fabaa6c59ce9c9d5c0ebc87babd3f30
   "metadata": {
    "collapsed": false
   },
   "outputs": [
    {
     "data": {
      "text/plain": [
<<<<<<< HEAD
       "<matplotlib.axes._subplots.AxesSubplot at 0x7ffe21546310>"
      ]
     },
     "execution_count": 27,
=======
       "<matplotlib.axes._subplots.AxesSubplot at 0x7fad9761d910>"
      ]
     },
     "execution_count": 16,
>>>>>>> 1d0a4a3e4fabaa6c59ce9c9d5c0ebc87babd3f30
     "metadata": {},
     "output_type": "execute_result"
    },
    {
     "data": {
<<<<<<< HEAD
      "image/png": "iVBORw0KGgoAAAANSUhEUgAAAXAAAAEmCAYAAAB7zsvVAAAABHNCSVQICAgIfAhkiAAAAAlwSFlz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\nYII=\n",
      "text/plain": [
       "<matplotlib.figure.Figure at 0x7ffe22117750>"
=======
      "image/png": "iVBORw0KGgoAAAANSUhEUgAAAXAAAAEmCAYAAAB7zsvVAAAABHNCSVQICAgIfAhkiAAAAAlwSFlz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\nCQkJE4pE4AkJCQkTiv8P1N14Y67t6loAAAAASUVORK5CYII=\n",
      "text/plain": [
       "<matplotlib.figure.Figure at 0x7fad9761d0d0>"
>>>>>>> 1d0a4a3e4fabaa6c59ce9c9d5c0ebc87babd3f30
      ]
     },
     "metadata": {},
     "output_type": "display_data"
    }
   ],
   "source": [
    "df.resample(rule='T', how='mean')['score'].plot()"
   ]
  },
  {
   "cell_type": "code",
   "execution_count": 18,
   "metadata": {
    "collapsed": false
   },
   "outputs": [
    {
     "data": {
      "text/plain": [
       "<matplotlib.axes._subplots.AxesSubplot at 0x7fb8935c4d90>"
      ]
     },
     "execution_count": 18,
     "metadata": {},
     "output_type": "execute_result"
    },
    {
     "data": {
      "image/png": "iVBORw0KGgoAAAANSUhEUgAAAY8AAAEACAYAAABLfPrqAAAABHNCSVQICAgIfAhkiAAAAAlwSFlz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\n/wEVwqBSaRVMCwAAAABJRU5ErkJggg==\n",
      "text/plain": [
       "<matplotlib.figure.Figure at 0x7fb893416210>"
      ]
     },
     "metadata": {},
     "output_type": "display_data"
    }
   ],
   "source": [
    "df['score'].plot(kind='hist')"
   ]
  },
  {
   "cell_type": "code",
   "execution_count": 50,
   "metadata": {
    "collapsed": false
   },
   "outputs": [],
   "source": []
  },
  {
   "cell_type": "code",
   "execution_count": null,
   "metadata": {
    "collapsed": true
   },
   "outputs": [],
   "source": []
  }
 ],
 "metadata": {
  "kernelspec": {
   "display_name": "Python 2",
   "language": "python",
   "name": "python2"
  },
  "language_info": {
   "codemirror_mode": {
    "name": "ipython",
    "version": 2
   },
   "file_extension": ".py",
   "mimetype": "text/x-python",
   "name": "python",
   "nbconvert_exporter": "python",
   "pygments_lexer": "ipython2",
   "version": "2.7.10"
  }
 },
 "nbformat": 4,
 "nbformat_minor": 0
}
