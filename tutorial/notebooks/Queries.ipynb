{
 "cells": [
  {
   "cell_type": "code",
   "execution_count": 1,
   "metadata": {
    "collapsed": true
   },
   "outputs": [],
   "source": [
    "import peachbox"
   ]
  },
  {
   "cell_type": "code",
   "execution_count": 2,
   "metadata": {
    "collapsed": false
   },
   "outputs": [],
   "source": [
    "batch_views = peachbox.CassandraDriver()\n",
    "batch_views.set_keyspace('batch_views')"
   ]
  },
  {
   "cell_type": "code",
   "execution_count": 3,
   "metadata": {
    "collapsed": false
   },
   "outputs": [],
   "source": [
    "query = batch_views.execute(\"SELECT * FROM reviews\")"
   ]
  },
  {
   "cell_type": "code",
   "execution_count": 4,
   "metadata": {
    "collapsed": true
   },
   "outputs": [
    {
     "data": {
      "text/plain": [
       "[Row(partition_key=u'00b92251-1606-de11-e588-950242ac1100', product_id=u'B00004CMYH', review_count=1, review_id=u'7412817493041903523', score=5, true_as_of_seconds=915321600),\n",
       " Row(partition_key=u'474c6cc4-06df-11e5-8895-0242ac110002', product_id=u'630460288X', review_count=36, review_id=u'-7807804278603516210', score=5, true_as_of_seconds=898214400),\n",
       " Row(partition_key=u'00e0bf20-6a06-dd11-e588-950242ac1100', product_id=u'6304674732', review_count=36, review_id=u'-4118651289483639760', score=3, true_as_of_seconds=893116800),\n",
       " Row(partition_key=u'00b74264-e406-de11-e588-950242ac1100', product_id=u'6303997643', review_count=1, review_id=u'-2657806680723346140', score=1, true_as_of_seconds=917222400),\n",
       " Row(partition_key=u'281f4f8e-06de-11e5-8895-0242ac110002', product_id=u'B000ICZD5C', review_count=4, review_id=u'-2967733849407159224', score=4, true_as_of_seconds=914198400),\n",
       " Row(partition_key=u'00ffad49-ba06-de11-e588-950242ac1100', product_id=u'B000F6R048', review_count=1, review_id=u'-2897431589935312622', score=4, true_as_of_seconds=916876800),\n",
       " Row(partition_key=u'00a3ac07-9206-dd11-e588-950242ac1100', product_id=u'B004WNTJP8', review_count=1, review_id=u'-8665656735896451570', score=5, true_as_of_seconds=916444800),\n",
       " Row(partition_key=u'00a28e35-ce06-dd11-e588-950242ac1100', product_id=u'6304016212', review_count=36, review_id=u'-2301094095088375687', score=5, true_as_of_seconds=896832000),\n",
       " Row(partition_key=u'49a8f23a-06df-11e5-8895-0242ac110002', product_id=u'B0096RC5XI', review_count=9, review_id=u'4570029387135056411', score=3, true_as_of_seconds=912038400),\n",
       " Row(partition_key=u'00ba1cdb-3606-de11-e588-950242ac1100', product_id=u'6303918468', review_count=4, review_id=u'-8214588259512410105', score=5, true_as_of_seconds=913939200)]"
      ]
     },
     "execution_count": 4,
     "metadata": {},
     "output_type": "execute_result"
    },
    {
     "name": "stderr",
     "output_type": "stream",
     "text": [
      "ERROR:cassandra.metadata:Tried to update schema for table 'reviews' in unknown keyspace 'real_time_views'\n"
     ]
    }
   ],
   "source": [
    "list(query)[:10]"
   ]
  },
  {
   "cell_type": "code",
   "execution_count": 4,
   "metadata": {
    "collapsed": true
   },
   "outputs": [
    {
     "data": {
      "text/plain": [
       "[(1432998000, 1),\n",
       " (1432998000, 1),\n",
       " (1432998000, 1),\n",
       " (1432998000, 1),\n",
       " (911520000, 36),\n",
       " (915580800, 4),\n",
       " (911520000, 36),\n",
       " (1432998000, 1),\n",
       " (1432998000, 1),\n",
       " (911520000, 36),\n",
       " (915580800, 4),\n",
       " (1432998000, 1),\n",
       " (920937600, 1),\n",
       " (1433840400, 1),\n",
       " (920937600, 1),\n",
       " (1432998000, 1),\n",
       " (915580800, 4),\n",
       " (1432998000, 1),\n",
       " (1432998000, 1),\n",
       " (920937600, 1),\n",
       " (1432998000, 1),\n",
       " (911520000, 36),\n",
       " (1432998000, 1),\n",
       " (920937600, 1),\n",
       " (915580800, 4),\n",
       " (1432998000, 1),\n",
       " (1433840400, 1),\n",
       " (1432998000, 1),\n",
       " (911520000, 36),\n",
       " (1432998000, 1),\n",
       " (920937600, 1),\n",
       " (915580800, 4)]"
      ]
     },
     "execution_count": 4,
     "metadata": {},
     "output_type": "execute_result"
    }
   ],
   "source": [
    "query = batch_views.execute(\"SELECT true_as_of_seconds, review_count FROM reviews WHERE product_id='B0002KPI2S'\")\n",
    "review_counts = map(lambda x: (x.true_as_of_seconds, x.review_count), query)\n",
    "review_counts                                                                              "
   ]
  },
  {
   "cell_type": "code",
   "execution_count": 5,
   "metadata": {
    "collapsed": false
   },
   "outputs": [
    {
     "data": {
      "text/plain": [
       "1433840400"
      ]
     },
     "execution_count": 5,
     "metadata": {},
     "output_type": "execute_result"
    }
   ],
   "source": [
    "latest_timestamp = max(map(lambda x: x[0], review_counts))\n",
    "latest_timestamp"
   ]
  },
  {
   "cell_type": "code",
   "execution_count": 6,
   "metadata": {
    "collapsed": false
   },
   "outputs": [
    {
     "data": {
      "text/plain": [
       "[Row(count=1)]"
      ]
     },
     "execution_count": 6,
     "metadata": {},
     "output_type": "execute_result"
    }
   ],
   "source": [
    "real_time_views = peachbox.CassandraDriver()\n",
    "real_time_views.set_keyspace('real_time_views')\n",
    "real_time_views.execute(\"SELECT COUNT(*) FROM reviews WHERE product_id='B0002KPI2S'\\\n",
    "                            AND true_as_of_seconds>\"+str(latest_timestamp)+\" ALLOW FILTERING\")"
   ]
  },
  {
   "cell_type": "code",
   "execution_count": 13,
   "metadata": {
    "collapsed": false
   },
   "outputs": [
    {
     "data": {
      "text/plain": [
       "[Row(count=18)]"
      ]
     },
     "execution_count": 13,
     "metadata": {},
     "output_type": "execute_result"
    }
   ],
   "source": [
    "real_time_views.execute(\"SELECT COUNT(*) FROM reviews WHERE product_id='B0002KPI2S'\")"
   ]
  },
  {
   "cell_type": "code",
   "execution_count": 12,
   "metadata": {
    "collapsed": false
   },
   "outputs": [
    {
     "data": {
      "text/plain": [
       "[ProduceResponse(topic='movie_reviews', partition=0, error=0, offset=401208)]"
      ]
     },
     "execution_count": 12,
     "metadata": {},
     "output_type": "execute_result"
    }
   ],
   "source": [
    "import kafka.client                                                                                                        \n",
    "import kafka.producer      \n",
    "import ujson as json\n",
    "import time\n",
    "                                                                                                                           \n",
    "client   = kafka.client.KafkaClient('localhost:9092')                                                                      \n",
    "producer = kafka.producer.SimpleProducer(client)                                                                           \n",
    "                                                                                                                           \n",
    "message = {'user_id':'A37I5QIB*9UMPD',\n",
    "           'product_id':'B0002KPI2S',\n",
    "           'review':'review text',\n",
    "           'summary':'Summarizing a great movie',\n",
    "           'profile_name':'ItsMe',\n",
    "           'helpfulness':'2/2',\n",
    "           'time':int(time.time()),\n",
    "           'score':5.0}\n",
    "                                                                                                   \n",
    "producer.send_messages('movie_reviews', json.dumps(message))                                                                      \n"
   ]
  },
  {
   "cell_type": "code",
   "execution_count": 25,
   "metadata": {
    "collapsed": true
   },
   "outputs": [],
   "source": [
    "def review_count(product_id):\n",
    "    batch_views = peachbox.CassandraDriver()\n",
    "    batch_views.set_keyspace('batch_views')\n",
    "    \n",
    "    real_time_views = peachbox.CassandraDriver()\n",
    "    real_time_views.set_keyspace('real_time_views')\n",
    "\n",
    "    query = batch_views.execute(\"SELECT true_as_of_seconds, review_count\\\n",
    "                                 FROM reviews WHERE product_id='\"+product_id+\"'\")\n",
    "    review_counts    = map(lambda x: (x.true_as_of_seconds, x.review_count), query)\n",
    "    latest_timestamp = max(map(lambda x: x[0], review_counts))\n",
    "    rt_review_counts = real_time_views.execute(\"SELECT COUNT(*) FROM reviews WHERE product_id='\"+product_id+\"'\\\n",
    "                            AND true_as_of_seconds>\"+str(latest_timestamp)+\" ALLOW FILTERING\")[0].count\n",
    "    return sum(map(lambda x: x[1], review_counts)) + rt_review_counts"
   ]
  },
  {
   "cell_type": "code",
   "execution_count": 26,
   "metadata": {
    "collapsed": false
   },
   "outputs": [
    {
     "data": {
      "text/plain": [
       "15"
      ]
     },
     "execution_count": 26,
     "metadata": {},
     "output_type": "execute_result"
    }
   ],
   "source": [
    "review_count('B00004U12X')"
   ]
  },
  {
   "cell_type": "code",
   "execution_count": null,
   "metadata": {
    "collapsed": true
   },
   "outputs": [],
   "source": []
  }
 ],
 "metadata": {
  "kernelspec": {
   "display_name": "Python 2",
   "language": "python",
   "name": "python2"
  },
  "language_info": {
   "codemirror_mode": {
    "name": "ipython",
    "version": 2
   },
   "file_extension": ".py",
   "mimetype": "text/x-python",
   "name": "python",
   "nbconvert_exporter": "python",
   "pygments_lexer": "ipython2",
   "version": "2.7.10"
  }
 },
 "nbformat": 4,
 "nbformat_minor": 0
}
